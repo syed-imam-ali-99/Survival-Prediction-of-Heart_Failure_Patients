{
 "cells": [
  {
   "cell_type": "markdown",
   "metadata": {},
   "source": [
    "# IMPORTING PACKAGES"
   ]
  },
  {
   "cell_type": "code",
   "execution_count": 4,
   "metadata": {},
   "outputs": [],
   "source": [
    "import numpy as np\n",
    "import pandas as pd\n",
    "from scipy import stats\n",
    "from sklearn.model_selection import train_test_split\n",
    "from sklearn.metrics import accuracy_score, confusion_matrix, classification_report\n",
    "from sklearn.model_selection import GridSearchCV\n",
    "from sklearn.model_selection import RandomizedSearchCV"
   ]
  },
  {
   "cell_type": "code",
   "execution_count": 1,
   "metadata": {},
   "outputs": [],
   "source": [
    "import warnings\n",
    "from warnings import simplefilter\n",
    "\n",
    "# ignore all future warnings\n",
    "simplefilter(action='ignore', category=FutureWarning)\n",
    "\n",
    "# ignore all deprecation warnings\n",
    "warnings.filterwarnings(action='ignore',category=DeprecationWarning)"
   ]
  },
  {
   "cell_type": "markdown",
   "metadata": {},
   "source": [
    "# IMPORTING DATA-SET"
   ]
  },
  {
   "cell_type": "code",
   "execution_count": 10,
   "metadata": {},
   "outputs": [],
   "source": [
    "data=pd.read_csv('RHF_Data.csv')"
   ]
  },
  {
   "cell_type": "markdown",
   "metadata": {},
   "source": [
    "# UNDERSTANDING THE DATA "
   ]
  },
  {
   "cell_type": "code",
   "execution_count": 11,
   "metadata": {},
   "outputs": [
    {
     "name": "stdout",
     "output_type": "stream",
     "text": [
      "(355, 51)\n",
      "18105\n"
     ]
    }
   ],
   "source": [
    "print(data.shape)\n",
    "print(data.size)"
   ]
  },
  {
   "cell_type": "code",
   "execution_count": 12,
   "metadata": {},
   "outputs": [
    {
     "name": "stdout",
     "output_type": "stream",
     "text": [
      "<class 'pandas.core.frame.DataFrame'>\n",
      "RangeIndex: 355 entries, 0 to 354\n",
      "Data columns (total 51 columns):\n",
      " #   Column                              Non-Null Count  Dtype  \n",
      "---  ------                              --------------  -----  \n",
      " 0   Study Code                          355 non-null    object \n",
      " 1   Age                                 351 non-null    float64\n",
      " 2   Gender                              351 non-null    float64\n",
      " 3   Diagnosis                           353 non-null    float64\n",
      " 4   Dyspnea                             355 non-null    int64  \n",
      " 5   Palpitations                        355 non-null    int64  \n",
      " 6   Leg Swelling                        353 non-null    float64\n",
      " 7   Syncope                             355 non-null    int64  \n",
      " 8   Chest Pain                          354 non-null    float64\n",
      " 9   Pulmonary Edema                     355 non-null    int64  \n",
      " 10  Creptations                         352 non-null    float64\n",
      " 11  Hypertension                        353 non-null    float64\n",
      " 12  Diabetes                            352 non-null    float64\n",
      " 13  Smoking                             349 non-null    float64\n",
      " 14  CKDor Dialysis                      352 non-null    float64\n",
      " 15  Alcohol                             350 non-null    float64\n",
      " 16  Cardiogenic Shock                   355 non-null    int64  \n",
      " 17  Myocardial Infarction               355 non-null    int64  \n",
      " 18  RWMA                                239 non-null    float64\n",
      " 19  NYHA                                320 non-null    float64\n",
      " 20  Severe LV Dysfunction               355 non-null    int64  \n",
      " 21  BMI                                 67 non-null     float64\n",
      " 22  SBP                                 331 non-null    float64\n",
      " 23  DBP                                 331 non-null    float64\n",
      " 24  PR                                  332 non-null    float64\n",
      " 25  FBS                                 246 non-null    float64\n",
      " 26  Total Count                         319 non-null    float64\n",
      " 27  Hb                                  331 non-null    float64\n",
      " 28  PCV                                 314 non-null    float64\n",
      " 29  Serum Creatinine                    320 non-null    float64\n",
      " 30  CPK                                 174 non-null    float64\n",
      " 31  CPK-Mb                              168 non-null    float64\n",
      " 32  Potassium                           259 non-null    float64\n",
      " 33  Length of Hospital Stay             352 non-null    float64\n",
      " 34  Disease Etiology                    352 non-null    float64\n",
      " 35  Final Outcome                       355 non-null    int64  \n",
      " 36  Time to Event                       355 non-null    float64\n",
      " 37  Sodium                              308 non-null    float64\n",
      " 38  Blood Urea                          331 non-null    float64\n",
      " 39  In Hospital Mortality               355 non-null    int64  \n",
      " 40  Left Ventricular Ejection Fraction  355 non-null    int64  \n",
      " 41  Atrial Fibrillation                 351 non-null    float64\n",
      " 42  Pulmonary Arterial Hypertension     355 non-null    int64  \n",
      " 43  Diastolic Dysfunction               355 non-null    int64  \n",
      " 44  Statins                             355 non-null    int64  \n",
      " 45  Loop Diuretics                      355 non-null    int64  \n",
      " 46  Potassium Sparing Diuretics         355 non-null    int64  \n",
      " 47  Beta Blockers                       355 non-null    int64  \n",
      " 48  ACE Inhibitors                      355 non-null    int64  \n",
      " 49  Calcium Channel Blockers            355 non-null    int64  \n",
      " 50  Angiotensin II receptor blockers    355 non-null    int64  \n",
      "dtypes: float64(31), int64(19), object(1)\n",
      "memory usage: 141.6+ KB\n"
     ]
    }
   ],
   "source": [
    "data.info()"
   ]
  },
  {
   "cell_type": "code",
   "execution_count": 13,
   "metadata": {},
   "outputs": [
    {
     "data": {
      "text/html": [
       "<div>\n",
       "<style scoped>\n",
       "    .dataframe tbody tr th:only-of-type {\n",
       "        vertical-align: middle;\n",
       "    }\n",
       "\n",
       "    .dataframe tbody tr th {\n",
       "        vertical-align: top;\n",
       "    }\n",
       "\n",
       "    .dataframe thead th {\n",
       "        text-align: right;\n",
       "    }\n",
       "</style>\n",
       "<table border=\"1\" class=\"dataframe\">\n",
       "  <thead>\n",
       "    <tr style=\"text-align: right;\">\n",
       "      <th></th>\n",
       "      <th>Age</th>\n",
       "      <th>Gender</th>\n",
       "      <th>Diagnosis</th>\n",
       "      <th>Dyspnea</th>\n",
       "      <th>Palpitations</th>\n",
       "      <th>Leg Swelling</th>\n",
       "      <th>Syncope</th>\n",
       "      <th>Chest Pain</th>\n",
       "      <th>Pulmonary Edema</th>\n",
       "      <th>Creptations</th>\n",
       "      <th>...</th>\n",
       "      <th>Atrial Fibrillation</th>\n",
       "      <th>Pulmonary Arterial Hypertension</th>\n",
       "      <th>Diastolic Dysfunction</th>\n",
       "      <th>Statins</th>\n",
       "      <th>Loop Diuretics</th>\n",
       "      <th>Potassium Sparing Diuretics</th>\n",
       "      <th>Beta Blockers</th>\n",
       "      <th>ACE Inhibitors</th>\n",
       "      <th>Calcium Channel Blockers</th>\n",
       "      <th>Angiotensin II receptor blockers</th>\n",
       "    </tr>\n",
       "  </thead>\n",
       "  <tbody>\n",
       "    <tr>\n",
       "      <th>count</th>\n",
       "      <td>351.000000</td>\n",
       "      <td>351.000000</td>\n",
       "      <td>353.000000</td>\n",
       "      <td>355.000000</td>\n",
       "      <td>355.000000</td>\n",
       "      <td>353.000000</td>\n",
       "      <td>355.000000</td>\n",
       "      <td>354.000000</td>\n",
       "      <td>355.000000</td>\n",
       "      <td>352.000000</td>\n",
       "      <td>...</td>\n",
       "      <td>351.000000</td>\n",
       "      <td>355.000000</td>\n",
       "      <td>355.000000</td>\n",
       "      <td>355.000000</td>\n",
       "      <td>355.000000</td>\n",
       "      <td>355.000000</td>\n",
       "      <td>355.000000</td>\n",
       "      <td>355.000000</td>\n",
       "      <td>355.000000</td>\n",
       "      <td>355.000000</td>\n",
       "    </tr>\n",
       "    <tr>\n",
       "      <th>mean</th>\n",
       "      <td>57.777778</td>\n",
       "      <td>1.367521</td>\n",
       "      <td>0.583569</td>\n",
       "      <td>0.833803</td>\n",
       "      <td>0.214085</td>\n",
       "      <td>0.175637</td>\n",
       "      <td>0.078873</td>\n",
       "      <td>0.460452</td>\n",
       "      <td>0.078873</td>\n",
       "      <td>0.517045</td>\n",
       "      <td>...</td>\n",
       "      <td>0.102564</td>\n",
       "      <td>0.233803</td>\n",
       "      <td>0.498592</td>\n",
       "      <td>0.653521</td>\n",
       "      <td>0.642254</td>\n",
       "      <td>0.521127</td>\n",
       "      <td>0.391549</td>\n",
       "      <td>0.242254</td>\n",
       "      <td>0.138028</td>\n",
       "      <td>0.109859</td>\n",
       "    </tr>\n",
       "    <tr>\n",
       "      <th>std</th>\n",
       "      <td>12.781981</td>\n",
       "      <td>0.482818</td>\n",
       "      <td>0.493666</td>\n",
       "      <td>0.372783</td>\n",
       "      <td>0.410765</td>\n",
       "      <td>0.381051</td>\n",
       "      <td>0.269921</td>\n",
       "      <td>0.709998</td>\n",
       "      <td>0.269921</td>\n",
       "      <td>0.500421</td>\n",
       "      <td>...</td>\n",
       "      <td>0.303822</td>\n",
       "      <td>0.423846</td>\n",
       "      <td>0.500704</td>\n",
       "      <td>0.476520</td>\n",
       "      <td>0.480014</td>\n",
       "      <td>0.500259</td>\n",
       "      <td>0.488786</td>\n",
       "      <td>0.429052</td>\n",
       "      <td>0.345416</td>\n",
       "      <td>0.313155</td>\n",
       "    </tr>\n",
       "    <tr>\n",
       "      <th>min</th>\n",
       "      <td>20.000000</td>\n",
       "      <td>1.000000</td>\n",
       "      <td>0.000000</td>\n",
       "      <td>0.000000</td>\n",
       "      <td>0.000000</td>\n",
       "      <td>0.000000</td>\n",
       "      <td>0.000000</td>\n",
       "      <td>0.000000</td>\n",
       "      <td>0.000000</td>\n",
       "      <td>0.000000</td>\n",
       "      <td>...</td>\n",
       "      <td>0.000000</td>\n",
       "      <td>0.000000</td>\n",
       "      <td>0.000000</td>\n",
       "      <td>0.000000</td>\n",
       "      <td>0.000000</td>\n",
       "      <td>0.000000</td>\n",
       "      <td>0.000000</td>\n",
       "      <td>0.000000</td>\n",
       "      <td>0.000000</td>\n",
       "      <td>0.000000</td>\n",
       "    </tr>\n",
       "    <tr>\n",
       "      <th>25%</th>\n",
       "      <td>49.500000</td>\n",
       "      <td>1.000000</td>\n",
       "      <td>0.000000</td>\n",
       "      <td>1.000000</td>\n",
       "      <td>0.000000</td>\n",
       "      <td>0.000000</td>\n",
       "      <td>0.000000</td>\n",
       "      <td>0.000000</td>\n",
       "      <td>0.000000</td>\n",
       "      <td>0.000000</td>\n",
       "      <td>...</td>\n",
       "      <td>0.000000</td>\n",
       "      <td>0.000000</td>\n",
       "      <td>0.000000</td>\n",
       "      <td>0.000000</td>\n",
       "      <td>0.000000</td>\n",
       "      <td>0.000000</td>\n",
       "      <td>0.000000</td>\n",
       "      <td>0.000000</td>\n",
       "      <td>0.000000</td>\n",
       "      <td>0.000000</td>\n",
       "    </tr>\n",
       "    <tr>\n",
       "      <th>50%</th>\n",
       "      <td>59.000000</td>\n",
       "      <td>1.000000</td>\n",
       "      <td>1.000000</td>\n",
       "      <td>1.000000</td>\n",
       "      <td>0.000000</td>\n",
       "      <td>0.000000</td>\n",
       "      <td>0.000000</td>\n",
       "      <td>0.000000</td>\n",
       "      <td>0.000000</td>\n",
       "      <td>1.000000</td>\n",
       "      <td>...</td>\n",
       "      <td>0.000000</td>\n",
       "      <td>0.000000</td>\n",
       "      <td>0.000000</td>\n",
       "      <td>1.000000</td>\n",
       "      <td>1.000000</td>\n",
       "      <td>1.000000</td>\n",
       "      <td>0.000000</td>\n",
       "      <td>0.000000</td>\n",
       "      <td>0.000000</td>\n",
       "      <td>0.000000</td>\n",
       "    </tr>\n",
       "    <tr>\n",
       "      <th>75%</th>\n",
       "      <td>67.000000</td>\n",
       "      <td>2.000000</td>\n",
       "      <td>1.000000</td>\n",
       "      <td>1.000000</td>\n",
       "      <td>0.000000</td>\n",
       "      <td>0.000000</td>\n",
       "      <td>0.000000</td>\n",
       "      <td>1.000000</td>\n",
       "      <td>0.000000</td>\n",
       "      <td>1.000000</td>\n",
       "      <td>...</td>\n",
       "      <td>0.000000</td>\n",
       "      <td>0.000000</td>\n",
       "      <td>1.000000</td>\n",
       "      <td>1.000000</td>\n",
       "      <td>1.000000</td>\n",
       "      <td>1.000000</td>\n",
       "      <td>1.000000</td>\n",
       "      <td>0.000000</td>\n",
       "      <td>0.000000</td>\n",
       "      <td>0.000000</td>\n",
       "    </tr>\n",
       "    <tr>\n",
       "      <th>max</th>\n",
       "      <td>90.000000</td>\n",
       "      <td>2.000000</td>\n",
       "      <td>1.000000</td>\n",
       "      <td>1.000000</td>\n",
       "      <td>1.000000</td>\n",
       "      <td>1.000000</td>\n",
       "      <td>1.000000</td>\n",
       "      <td>10.000000</td>\n",
       "      <td>1.000000</td>\n",
       "      <td>1.000000</td>\n",
       "      <td>...</td>\n",
       "      <td>1.000000</td>\n",
       "      <td>1.000000</td>\n",
       "      <td>1.000000</td>\n",
       "      <td>1.000000</td>\n",
       "      <td>1.000000</td>\n",
       "      <td>1.000000</td>\n",
       "      <td>1.000000</td>\n",
       "      <td>1.000000</td>\n",
       "      <td>1.000000</td>\n",
       "      <td>1.000000</td>\n",
       "    </tr>\n",
       "  </tbody>\n",
       "</table>\n",
       "<p>8 rows × 50 columns</p>\n",
       "</div>"
      ],
      "text/plain": [
       "              Age      Gender   Diagnosis     Dyspnea  Palpitations  \\\n",
       "count  351.000000  351.000000  353.000000  355.000000    355.000000   \n",
       "mean    57.777778    1.367521    0.583569    0.833803      0.214085   \n",
       "std     12.781981    0.482818    0.493666    0.372783      0.410765   \n",
       "min     20.000000    1.000000    0.000000    0.000000      0.000000   \n",
       "25%     49.500000    1.000000    0.000000    1.000000      0.000000   \n",
       "50%     59.000000    1.000000    1.000000    1.000000      0.000000   \n",
       "75%     67.000000    2.000000    1.000000    1.000000      0.000000   \n",
       "max     90.000000    2.000000    1.000000    1.000000      1.000000   \n",
       "\n",
       "       Leg Swelling     Syncope  Chest Pain  Pulmonary Edema  Creptations  \\\n",
       "count    353.000000  355.000000  354.000000       355.000000   352.000000   \n",
       "mean       0.175637    0.078873    0.460452         0.078873     0.517045   \n",
       "std        0.381051    0.269921    0.709998         0.269921     0.500421   \n",
       "min        0.000000    0.000000    0.000000         0.000000     0.000000   \n",
       "25%        0.000000    0.000000    0.000000         0.000000     0.000000   \n",
       "50%        0.000000    0.000000    0.000000         0.000000     1.000000   \n",
       "75%        0.000000    0.000000    1.000000         0.000000     1.000000   \n",
       "max        1.000000    1.000000   10.000000         1.000000     1.000000   \n",
       "\n",
       "       ...  Atrial Fibrillation   Pulmonary Arterial Hypertension  \\\n",
       "count  ...            351.000000                       355.000000   \n",
       "mean   ...              0.102564                         0.233803   \n",
       "std    ...              0.303822                         0.423846   \n",
       "min    ...              0.000000                         0.000000   \n",
       "25%    ...              0.000000                         0.000000   \n",
       "50%    ...              0.000000                         0.000000   \n",
       "75%    ...              0.000000                         0.000000   \n",
       "max    ...              1.000000                         1.000000   \n",
       "\n",
       "       Diastolic Dysfunction     Statins  Loop Diuretics  \\\n",
       "count             355.000000  355.000000      355.000000   \n",
       "mean                0.498592    0.653521        0.642254   \n",
       "std                 0.500704    0.476520        0.480014   \n",
       "min                 0.000000    0.000000        0.000000   \n",
       "25%                 0.000000    0.000000        0.000000   \n",
       "50%                 0.000000    1.000000        1.000000   \n",
       "75%                 1.000000    1.000000        1.000000   \n",
       "max                 1.000000    1.000000        1.000000   \n",
       "\n",
       "       Potassium Sparing Diuretics  Beta Blockers  ACE Inhibitors  \\\n",
       "count                   355.000000     355.000000      355.000000   \n",
       "mean                      0.521127       0.391549        0.242254   \n",
       "std                       0.500259       0.488786        0.429052   \n",
       "min                       0.000000       0.000000        0.000000   \n",
       "25%                       0.000000       0.000000        0.000000   \n",
       "50%                       1.000000       0.000000        0.000000   \n",
       "75%                       1.000000       1.000000        0.000000   \n",
       "max                       1.000000       1.000000        1.000000   \n",
       "\n",
       "       Calcium Channel Blockers  Angiotensin II receptor blockers  \n",
       "count                355.000000                        355.000000  \n",
       "mean                   0.138028                          0.109859  \n",
       "std                    0.345416                          0.313155  \n",
       "min                    0.000000                          0.000000  \n",
       "25%                    0.000000                          0.000000  \n",
       "50%                    0.000000                          0.000000  \n",
       "75%                    0.000000                          0.000000  \n",
       "max                    1.000000                          1.000000  \n",
       "\n",
       "[8 rows x 50 columns]"
      ]
     },
     "execution_count": 13,
     "metadata": {},
     "output_type": "execute_result"
    }
   ],
   "source": [
    "data.describe()"
   ]
  },
  {
   "cell_type": "raw",
   "metadata": {},
   "source": [
    "OUR TARGET VARIABLE HERE  IS : \"Final Outcome\""
   ]
  },
  {
   "cell_type": "markdown",
   "metadata": {},
   "source": [
    "#  INVESTIGATING IRELEVANT COLUMNS"
   ]
  },
  {
   "cell_type": "code",
   "execution_count": 14,
   "metadata": {},
   "outputs": [],
   "source": [
    "col=['Study Code','In Hospital Mortality']\n",
    "data=data.drop(col,1)"
   ]
  },
  {
   "cell_type": "markdown",
   "metadata": {},
   "source": [
    "# DATA PRE-PROCESSING "
   ]
  },
  {
   "cell_type": "markdown",
   "metadata": {},
   "source": [
    "## CHECKING FOR NULL-VALUES"
   ]
  },
  {
   "cell_type": "code",
   "execution_count": 15,
   "metadata": {},
   "outputs": [
    {
     "data": {
      "text/plain": [
       "Age                                     4\n",
       "Gender                                  4\n",
       "Diagnosis                               2\n",
       "Dyspnea                                 0\n",
       "Palpitations                            0\n",
       "Leg Swelling                            2\n",
       "Syncope                                 0\n",
       "Chest Pain                              1\n",
       "Pulmonary Edema                         0\n",
       "Creptations                             3\n",
       "Hypertension                            2\n",
       "Diabetes                                3\n",
       "Smoking                                 6\n",
       "CKDor Dialysis                          3\n",
       "Alcohol                                 5\n",
       "Cardiogenic Shock                       0\n",
       "Myocardial Infarction                   0\n",
       "RWMA                                  116\n",
       "NYHA                                   35\n",
       "Severe LV Dysfunction                   0\n",
       "BMI                                   288\n",
       "SBP                                    24\n",
       "DBP                                    24\n",
       "PR                                     23\n",
       "FBS                                   109\n",
       "Total Count                            36\n",
       "Hb                                     24\n",
       "PCV                                    41\n",
       "Serum Creatinine                       35\n",
       "CPK                                   181\n",
       "CPK-Mb                                187\n",
       "Potassium                              96\n",
       "Length of Hospital Stay                 3\n",
       "Disease Etiology                        3\n",
       "Final Outcome                           0\n",
       "Time to Event                           0\n",
       "Sodium                                 47\n",
       "Blood Urea                             24\n",
       "Left Ventricular Ejection Fraction      0\n",
       "Atrial Fibrillation                     4\n",
       "Pulmonary Arterial Hypertension         0\n",
       "Diastolic Dysfunction                   0\n",
       "Statins                                 0\n",
       "Loop Diuretics                          0\n",
       "Potassium Sparing Diuretics             0\n",
       "Beta Blockers                           0\n",
       "ACE Inhibitors                          0\n",
       "Calcium Channel Blockers                0\n",
       "Angiotensin II receptor blockers        0\n",
       "dtype: int64"
      ]
     },
     "execution_count": 15,
     "metadata": {},
     "output_type": "execute_result"
    }
   ],
   "source": [
    "data.isnull().sum()"
   ]
  },
  {
   "cell_type": "markdown",
   "metadata": {},
   "source": [
    "## OUTLIER ANALYSIS "
   ]
  },
  {
   "cell_type": "code",
   "execution_count": 16,
   "metadata": {},
   "outputs": [
    {
     "name": "stdout",
     "output_type": "stream",
     "text": [
      "[[       nan        nan        nan ... 0.5654225  0.40016337 0.35130858]\n",
      " [       nan        nan        nan ... 0.5654225  0.40016337 0.35130858]\n",
      " [       nan        nan        nan ... 0.5654225  0.40016337 0.35130858]\n",
      " ...\n",
      " [       nan        nan        nan ... 0.5654225  0.40016337 0.35130858]\n",
      " [       nan        nan        nan ... 0.5654225  0.40016337 0.35130858]\n",
      " [       nan        nan        nan ... 0.5654225  0.40016337 0.35130858]]\n"
     ]
    }
   ],
   "source": [
    "z = np.abs(stats.zscore(data.loc[:,:]))\n",
    "print(z)"
   ]
  },
  {
   "cell_type": "code",
   "execution_count": 17,
   "metadata": {},
   "outputs": [
    {
     "name": "stdout",
     "output_type": "stream",
     "text": [
      "(array([ 15,  29,  30,  48,  49,  54,  56,  58,  65,  74,  77,  86, 110,\n",
      "       117, 131, 144, 152, 157, 207, 236, 248, 252, 256, 262, 267, 274,\n",
      "       276, 276, 277, 279, 283, 287, 290, 290, 291, 292, 293, 294, 296,\n",
      "       297, 298, 303, 310, 311, 314, 318, 320, 321, 325, 330, 331, 334,\n",
      "       334, 335, 345, 353], dtype=int64), array([8, 8, 8, 6, 6, 8, 8, 6, 8, 8, 8, 6, 8, 8, 8, 8, 6, 8, 6, 6, 8, 6,\n",
      "       6, 8, 6, 8, 6, 8, 8, 8, 6, 6, 6, 8, 6, 6, 6, 6, 6, 6, 6, 6, 8, 6,\n",
      "       6, 8, 6, 8, 8, 6, 8, 6, 8, 6, 8, 8], dtype=int64))\n"
     ]
    }
   ],
   "source": [
    "#Threshold to identify an outlier.\n",
    "#The first array contains the list of row numbers and second array respective column numbers\n",
    "\n",
    "threshold = 3\n",
    "print(np.where(z > 3))"
   ]
  },
  {
   "cell_type": "code",
   "execution_count": 18,
   "metadata": {},
   "outputs": [],
   "source": [
    "#Data without outliers\n",
    "odata = data[(z < 3).all(axis=1)]"
   ]
  },
  {
   "cell_type": "code",
   "execution_count": 19,
   "metadata": {},
   "outputs": [
    {
     "name": "stdout",
     "output_type": "stream",
     "text": [
      "(355, 49)\n",
      "(0, 49)\n"
     ]
    }
   ],
   "source": [
    "print(data.shape)\n",
    "print(odata.shape)"
   ]
  },
  {
   "cell_type": "markdown",
   "metadata": {},
   "source": [
    "# EXPLORATORY DATA ANALYSIS"
   ]
  },
  {
   "cell_type": "code",
   "execution_count": 20,
   "metadata": {},
   "outputs": [
    {
     "name": "stdout",
     "output_type": "stream",
     "text": [
      "<class 'pandas.core.frame.DataFrame'>\n",
      "RangeIndex: 355 entries, 0 to 354\n",
      "Data columns (total 49 columns):\n",
      " #   Column                              Non-Null Count  Dtype  \n",
      "---  ------                              --------------  -----  \n",
      " 0   Age                                 351 non-null    float64\n",
      " 1   Gender                              351 non-null    float64\n",
      " 2   Diagnosis                           353 non-null    float64\n",
      " 3   Dyspnea                             355 non-null    int64  \n",
      " 4   Palpitations                        355 non-null    int64  \n",
      " 5   Leg Swelling                        353 non-null    float64\n",
      " 6   Syncope                             355 non-null    int64  \n",
      " 7   Chest Pain                          354 non-null    float64\n",
      " 8   Pulmonary Edema                     355 non-null    int64  \n",
      " 9   Creptations                         352 non-null    float64\n",
      " 10  Hypertension                        353 non-null    float64\n",
      " 11  Diabetes                            352 non-null    float64\n",
      " 12  Smoking                             349 non-null    float64\n",
      " 13  CKDor Dialysis                      352 non-null    float64\n",
      " 14  Alcohol                             350 non-null    float64\n",
      " 15  Cardiogenic Shock                   355 non-null    int64  \n",
      " 16  Myocardial Infarction               355 non-null    int64  \n",
      " 17  RWMA                                239 non-null    float64\n",
      " 18  NYHA                                320 non-null    float64\n",
      " 19  Severe LV Dysfunction               355 non-null    int64  \n",
      " 20  BMI                                 67 non-null     float64\n",
      " 21  SBP                                 331 non-null    float64\n",
      " 22  DBP                                 331 non-null    float64\n",
      " 23  PR                                  332 non-null    float64\n",
      " 24  FBS                                 246 non-null    float64\n",
      " 25  Total Count                         319 non-null    float64\n",
      " 26  Hb                                  331 non-null    float64\n",
      " 27  PCV                                 314 non-null    float64\n",
      " 28  Serum Creatinine                    320 non-null    float64\n",
      " 29  CPK                                 174 non-null    float64\n",
      " 30  CPK-Mb                              168 non-null    float64\n",
      " 31  Potassium                           259 non-null    float64\n",
      " 32  Length of Hospital Stay             352 non-null    float64\n",
      " 33  Disease Etiology                    352 non-null    float64\n",
      " 34  Final Outcome                       355 non-null    int64  \n",
      " 35  Time to Event                       355 non-null    float64\n",
      " 36  Sodium                              308 non-null    float64\n",
      " 37  Blood Urea                          331 non-null    float64\n",
      " 38  Left Ventricular Ejection Fraction  355 non-null    int64  \n",
      " 39  Atrial Fibrillation                 351 non-null    float64\n",
      " 40  Pulmonary Arterial Hypertension     355 non-null    int64  \n",
      " 41  Diastolic Dysfunction               355 non-null    int64  \n",
      " 42  Statins                             355 non-null    int64  \n",
      " 43  Loop Diuretics                      355 non-null    int64  \n",
      " 44  Potassium Sparing Diuretics         355 non-null    int64  \n",
      " 45  Beta Blockers                       355 non-null    int64  \n",
      " 46  ACE Inhibitors                      355 non-null    int64  \n",
      " 47  Calcium Channel Blockers            355 non-null    int64  \n",
      " 48  Angiotensin II receptor blockers    355 non-null    int64  \n",
      "dtypes: float64(31), int64(18)\n",
      "memory usage: 136.0 KB\n"
     ]
    }
   ],
   "source": [
    "data.info()"
   ]
  },
  {
   "cell_type": "code",
   "execution_count": 21,
   "metadata": {},
   "outputs": [
    {
     "data": {
      "text/plain": [
       "array([0, 1, 2], dtype=int64)"
      ]
     },
     "execution_count": 21,
     "metadata": {},
     "output_type": "execute_result"
    }
   ],
   "source": [
    "data.loc[:,'Final Outcome'].unique()"
   ]
  },
  {
   "cell_type": "code",
   "execution_count": 22,
   "metadata": {},
   "outputs": [
    {
     "data": {
      "text/plain": [
       "1    179\n",
       "0    135\n",
       "2     41\n",
       "Name: Final Outcome, dtype: int64"
      ]
     },
     "execution_count": 22,
     "metadata": {},
     "output_type": "execute_result"
    }
   ],
   "source": [
    "data.loc[:,'Final Outcome'].value_counts()"
   ]
  },
  {
   "cell_type": "code",
   "execution_count": 23,
   "metadata": {},
   "outputs": [],
   "source": [
    "columns=['CPK','CPK-Mb','FBS','RWMA']\n",
    "fdata=data.drop(columns,1)"
   ]
  },
  {
   "cell_type": "code",
   "execution_count": 24,
   "metadata": {},
   "outputs": [],
   "source": [
    "fdata_corr = fdata.corr()"
   ]
  },
  {
   "cell_type": "code",
   "execution_count": 25,
   "metadata": {},
   "outputs": [
    {
     "data": {
      "text/plain": [
       "Time to Event                         0.248691\n",
       "Diastolic Dysfunction                 0.182482\n",
       "Beta Blockers                         0.152097\n",
       "BMI                                   0.137371\n",
       "ACE Inhibitors                        0.133304\n",
       "PCV                                   0.102485\n",
       "Hb                                    0.080095\n",
       "Statins                               0.077750\n",
       "DBP                                   0.077729\n",
       "SBP                                   0.076731\n",
       "Sodium                                0.070115\n",
       "Loop Diuretics                        0.068710\n",
       "Potassium Sparing Diuretics           0.060622\n",
       "Calcium Channel Blockers              0.050386\n",
       "Alcohol                               0.032499\n",
       "Severe LV Dysfunction                 0.031162\n",
       "Disease Etiology                      0.030158\n",
       "Length of Hospital Stay               0.027948\n",
       "Gender                                0.013098\n",
       "Pulmonary Arterial Hypertension       0.010431\n",
       "Smoking                               0.001795\n",
       "Leg Swelling                          0.001812\n",
       "Dyspnea                               0.004378\n",
       "Angiotensin II receptor blockers      0.004512\n",
       "Serum Creatinine                      0.017612\n",
       "Palpitations                          0.022356\n",
       "Hypertension                          0.033189\n",
       "Left Ventricular Ejection Fraction    0.041517\n",
       "Chest Pain                            0.050521\n",
       "Diagnosis                             0.051454\n",
       "Creptations                           0.062134\n",
       "CKDor Dialysis                        0.066937\n",
       "PR                                    0.069003\n",
       "Pulmonary Edema                       0.070706\n",
       "Atrial Fibrillation                   0.092486\n",
       "NYHA                                  0.101142\n",
       "Syncope                               0.118761\n",
       "Blood Urea                            0.124110\n",
       "Age                                   0.130453\n",
       "Diabetes                              0.142259\n",
       "Cardiogenic Shock                     0.150643\n",
       "Potassium                             0.163107\n",
       "Total Count                           0.178211\n",
       "Myocardial Infarction                 0.189169\n",
       "Final Outcome                         1.000000\n",
       "Name: Final Outcome, dtype: float64"
      ]
     },
     "execution_count": 25,
     "metadata": {},
     "output_type": "execute_result"
    }
   ],
   "source": [
    "abs(fdata_corr.loc[:,'Final Outcome'].sort_values())"
   ]
  },
  {
   "cell_type": "code",
   "execution_count": 26,
   "metadata": {},
   "outputs": [],
   "source": [
    "sdata=fdata.loc[:,['Diastolic Dysfunction','Beta Blockers','BMI','ACE Inhibitors','PCV','Time to Event','Final Outcome']]"
   ]
  },
  {
   "cell_type": "code",
   "execution_count": 27,
   "metadata": {},
   "outputs": [],
   "source": [
    "bdata=fdata.loc[:,['Age','Gender','Diagnosis','Chest Pain','Hypertension','Diabetes','Smoking','Alcohol','Time to Event','Blood Urea','Potassium','Myocardial Infarction','Total Count','Cardiogenic Shock','Final Outcome']]"
   ]
  },
  {
   "cell_type": "code",
   "execution_count": 28,
   "metadata": {},
   "outputs": [],
   "source": [
    "sdata.to_csv('stat.csv',index=False)\n",
    "bdata.to_csv('bi.csv',index=False)"
   ]
  },
  {
   "cell_type": "markdown",
   "metadata": {},
   "source": [
    "# STATISTICAL DATA ANALYSIS AND MODELING"
   ]
  },
  {
   "cell_type": "code",
   "execution_count": 29,
   "metadata": {},
   "outputs": [
    {
     "name": "stdout",
     "output_type": "stream",
     "text": [
      "<class 'pandas.core.frame.DataFrame'>\n",
      "RangeIndex: 355 entries, 0 to 354\n",
      "Data columns (total 7 columns):\n",
      " #   Column                 Non-Null Count  Dtype  \n",
      "---  ------                 --------------  -----  \n",
      " 0   Diastolic Dysfunction  355 non-null    int64  \n",
      " 1   Beta Blockers          355 non-null    int64  \n",
      " 2   BMI                    67 non-null     float64\n",
      " 3   ACE Inhibitors         355 non-null    int64  \n",
      " 4   PCV                    314 non-null    float64\n",
      " 5   Time to Event          355 non-null    float64\n",
      " 6   Final Outcome          355 non-null    int64  \n",
      "dtypes: float64(3), int64(4)\n",
      "memory usage: 19.5 KB\n"
     ]
    }
   ],
   "source": [
    "sdata.info()"
   ]
  },
  {
   "cell_type": "code",
   "execution_count": 30,
   "metadata": {},
   "outputs": [
    {
     "data": {
      "text/plain": [
       "Diastolic Dysfunction      0\n",
       "Beta Blockers              0\n",
       "BMI                      288\n",
       "ACE Inhibitors             0\n",
       "PCV                       41\n",
       "Time to Event              0\n",
       "Final Outcome              0\n",
       "dtype: int64"
      ]
     },
     "execution_count": 30,
     "metadata": {},
     "output_type": "execute_result"
    }
   ],
   "source": [
    "sdata.isnull().sum()"
   ]
  },
  {
   "cell_type": "code",
   "execution_count": 31,
   "metadata": {},
   "outputs": [
    {
     "data": {
      "text/plain": [
       "array([0.00563383, 0.44438199,        nan, 1.20316648,        nan,\n",
       "       0.76052122, 0.33094413])"
      ]
     },
     "execution_count": 31,
     "metadata": {},
     "output_type": "execute_result"
    }
   ],
   "source": [
    "stats.skew(sdata)"
   ]
  },
  {
   "cell_type": "code",
   "execution_count": 32,
   "metadata": {},
   "outputs": [],
   "source": [
    "sdata.dropna(inplace=True)"
   ]
  },
  {
   "cell_type": "code",
   "execution_count": 33,
   "metadata": {},
   "outputs": [
    {
     "name": "stdout",
     "output_type": "stream",
     "text": [
      "(64, 7)\n",
      "448\n"
     ]
    }
   ],
   "source": [
    "print(sdata.shape)\n",
    "print(sdata.size)"
   ]
  },
  {
   "cell_type": "markdown",
   "metadata": {},
   "source": [
    "## MODELING "
   ]
  },
  {
   "cell_type": "code",
   "execution_count": 50,
   "metadata": {},
   "outputs": [],
   "source": [
    "from sklearn.ensemble import RandomForestClassifier"
   ]
  },
  {
   "cell_type": "code",
   "execution_count": 51,
   "metadata": {},
   "outputs": [],
   "source": [
    "X=sdata.loc[:,['Time to Event','PCV','ACE Inhibitors','BMI','Beta Blockers','Diastolic Dysfunction']]\n",
    "y=sdata.loc[:,['Final Outcome']]"
   ]
  },
  {
   "cell_type": "code",
   "execution_count": 52,
   "metadata": {},
   "outputs": [],
   "source": [
    "X_train, X_test, y_train, y_test = train_test_split(X, y,stratify=y,random_state=13)"
   ]
  },
  {
   "cell_type": "code",
   "execution_count": 53,
   "metadata": {},
   "outputs": [
    {
     "name": "stdout",
     "output_type": "stream",
     "text": [
      "[[6 1 1]\n",
      " [2 4 0]\n",
      " [1 0 1]]\n"
     ]
    },
    {
     "data": {
      "text/plain": [
       "68.75"
      ]
     },
     "execution_count": 53,
     "metadata": {},
     "output_type": "execute_result"
    }
   ],
   "source": [
    "model=RandomForestClassifier(random_state=0)\n",
    "model.fit(X_train,y_train.values.ravel())\n",
    "y_pred = model.predict(X_test)\n",
    "from sklearn.metrics import confusion_matrix,accuracy_score\n",
    "print(confusion_matrix(y_test,y_pred))\n",
    "(accuracy_score(y_test,y_pred))*100"
   ]
  },
  {
   "cell_type": "code",
   "execution_count": 61,
   "metadata": {},
   "outputs": [
    {
     "name": "stdout",
     "output_type": "stream",
     "text": [
      "[[6 2 0]\n",
      " [1 5 0]\n",
      " [1 0 1]]\n"
     ]
    },
    {
     "data": {
      "text/plain": [
       "75.0"
      ]
     },
     "execution_count": 61,
     "metadata": {},
     "output_type": "execute_result"
    }
   ],
   "source": [
    "from xgboost import XGBClassifier\n",
    "model=XGBClassifier()\n",
    "model.fit(X_train,y_train.values.ravel())\n",
    "y_pred = model.predict(X_test)\n",
    "from sklearn.metrics import confusion_matrix,accuracy_score\n",
    "print(confusion_matrix(y_test,y_pred))\n",
    "pd.crosstab(y_test.values.ravel(),y_pred)\n",
    "accuracy_score(y_test,y_pred)*100"
   ]
  },
  {
   "cell_type": "markdown",
   "metadata": {},
   "source": [
    "# BI DATA ANALYSIS AND MODELING"
   ]
  },
  {
   "cell_type": "code",
   "execution_count": 62,
   "metadata": {},
   "outputs": [
    {
     "name": "stdout",
     "output_type": "stream",
     "text": [
      "<class 'pandas.core.frame.DataFrame'>\n",
      "RangeIndex: 355 entries, 0 to 354\n",
      "Data columns (total 15 columns):\n",
      " #   Column                 Non-Null Count  Dtype  \n",
      "---  ------                 --------------  -----  \n",
      " 0   Age                    351 non-null    float64\n",
      " 1   Gender                 351 non-null    float64\n",
      " 2   Diagnosis              353 non-null    float64\n",
      " 3   Chest Pain             354 non-null    float64\n",
      " 4   Hypertension           353 non-null    float64\n",
      " 5   Diabetes               352 non-null    float64\n",
      " 6   Smoking                349 non-null    float64\n",
      " 7   Alcohol                350 non-null    float64\n",
      " 8   Time to Event          355 non-null    float64\n",
      " 9   Blood Urea             331 non-null    float64\n",
      " 10  Potassium              259 non-null    float64\n",
      " 11  Myocardial Infarction  355 non-null    int64  \n",
      " 12  Total Count            319 non-null    float64\n",
      " 13  Cardiogenic Shock      355 non-null    int64  \n",
      " 14  Final Outcome          355 non-null    int64  \n",
      "dtypes: float64(12), int64(3)\n",
      "memory usage: 41.7 KB\n"
     ]
    }
   ],
   "source": [
    "bdata.info()"
   ]
  },
  {
   "cell_type": "code",
   "execution_count": 63,
   "metadata": {},
   "outputs": [
    {
     "data": {
      "text/plain": [
       "Age                       4\n",
       "Gender                    4\n",
       "Diagnosis                 2\n",
       "Chest Pain                1\n",
       "Hypertension              2\n",
       "Diabetes                  3\n",
       "Smoking                   6\n",
       "Alcohol                   5\n",
       "Time to Event             0\n",
       "Blood Urea               24\n",
       "Potassium                96\n",
       "Myocardial Infarction     0\n",
       "Total Count              36\n",
       "Cardiogenic Shock         0\n",
       "Final Outcome             0\n",
       "dtype: int64"
      ]
     },
     "execution_count": 63,
     "metadata": {},
     "output_type": "execute_result"
    }
   ],
   "source": [
    "bdata.isnull().sum()"
   ]
  },
  {
   "cell_type": "code",
   "execution_count": 64,
   "metadata": {},
   "outputs": [],
   "source": [
    "bdata.dropna(inplace=True)"
   ]
  },
  {
   "cell_type": "code",
   "execution_count": 65,
   "metadata": {},
   "outputs": [
    {
     "data": {
      "text/plain": [
       "Age                      0\n",
       "Gender                   0\n",
       "Diagnosis                0\n",
       "Chest Pain               0\n",
       "Hypertension             0\n",
       "Diabetes                 0\n",
       "Smoking                  0\n",
       "Alcohol                  0\n",
       "Time to Event            0\n",
       "Blood Urea               0\n",
       "Potassium                0\n",
       "Myocardial Infarction    0\n",
       "Total Count              0\n",
       "Cardiogenic Shock        0\n",
       "Final Outcome            0\n",
       "dtype: int64"
      ]
     },
     "execution_count": 65,
     "metadata": {},
     "output_type": "execute_result"
    }
   ],
   "source": [
    "bdata.isnull().sum()"
   ]
  },
  {
   "cell_type": "markdown",
   "metadata": {},
   "source": [
    "## MODELING"
   ]
  },
  {
   "cell_type": "code",
   "execution_count": 66,
   "metadata": {},
   "outputs": [],
   "source": [
    "X=bdata.loc[:,['Age','Gender','Diagnosis','Chest Pain','Hypertension','Diabetes','Smoking','Alcohol','Time to Event']]\n",
    "y=bdata.loc[:,['Final Outcome']]"
   ]
  },
  {
   "cell_type": "code",
   "execution_count": 67,
   "metadata": {},
   "outputs": [],
   "source": [
    "X_train, X_test, y_train, y_test = train_test_split(X, y,stratify=y,random_state=13)"
   ]
  },
  {
   "cell_type": "code",
   "execution_count": 40,
   "metadata": {},
   "outputs": [],
   "source": [
    "from sklearn.ensemble import RandomForestClassifier\n",
    "model = RandomForestClassifier()"
   ]
  },
  {
   "cell_type": "code",
   "execution_count": 68,
   "metadata": {},
   "outputs": [
    {
     "name": "stdout",
     "output_type": "stream",
     "text": [
      "[[16  3  0]\n",
      " [ 6 27  0]\n",
      " [ 4  1  2]]\n"
     ]
    },
    {
     "data": {
      "text/plain": [
       "76.27118644067797"
      ]
     },
     "execution_count": 68,
     "metadata": {},
     "output_type": "execute_result"
    }
   ],
   "source": [
    "model=RandomForestClassifier(random_state=1)\n",
    "model.fit(X_train,y_train.values.ravel())\n",
    "y_pred = model.predict(X_test)\n",
    "from sklearn.metrics import confusion_matrix,accuracy_score\n",
    "print(confusion_matrix(y_test,y_pred))\n",
    "accuracy_score(y_test,y_pred)*100"
   ]
  },
  {
   "cell_type": "code",
   "execution_count": 69,
   "metadata": {},
   "outputs": [
    {
     "name": "stdout",
     "output_type": "stream",
     "text": [
      "[[15  2  2]\n",
      " [ 4 29  0]\n",
      " [ 6  1  0]]\n"
     ]
    },
    {
     "data": {
      "text/plain": [
       "74.57627118644068"
      ]
     },
     "execution_count": 69,
     "metadata": {},
     "output_type": "execute_result"
    }
   ],
   "source": [
    "from xgboost import XGBClassifier\n",
    "model=XGBClassifier()\n",
    "model.fit(X_train,y_train.values.ravel())\n",
    "y_pred = model.predict(X_test)\n",
    "from sklearn.metrics import confusion_matrix,accuracy_score\n",
    "print(confusion_matrix(y_test,y_pred))\n",
    "accuracy_score(y_test,y_pred)*100"
   ]
  },
  {
   "cell_type": "code",
   "execution_count": 70,
   "metadata": {},
   "outputs": [],
   "source": [
    "X_train, X_test,y_train, y_test = train_test_split(X,y,test_size=0.30, random_state=0)"
   ]
  },
  {
   "cell_type": "code",
   "execution_count": 71,
   "metadata": {},
   "outputs": [],
   "source": [
    "from sklearn.ensemble import RandomForestClassifier\n",
    "model_rf = RandomForestClassifier()"
   ]
  },
  {
   "cell_type": "code",
   "execution_count": 83,
   "metadata": {},
   "outputs": [
    {
     "name": "stdout",
     "output_type": "stream",
     "text": [
      "0.7239263803680982\n",
      "{'max_depth': 40, 'max_leaf_nodes': 25, 'n_estimators': 120}\n",
      "0.7605633802816901\n",
      "              precision    recall  f1-score   support\n",
      "\n",
      "           0       0.70      0.70      0.70        23\n",
      "           1       0.84      0.83      0.84        46\n",
      "           2       0.00      0.00      0.00         2\n",
      "\n",
      "    accuracy                           0.76        71\n",
      "   macro avg       0.51      0.51      0.51        71\n",
      "weighted avg       0.77      0.76      0.77        71\n",
      "\n",
      "[[16  6  1]\n",
      " [ 6 38  2]\n",
      " [ 1  1  0]]\n"
     ]
    }
   ],
   "source": [
    "#model = Random Forest(max_depth,max_leaf_nodes,n_estimator)\n",
    "#GRIDSEARCHCV\n",
    "parameters = {'max_depth': [40,41,42], 'max_leaf_nodes': [20,25],\n",
    "                     'n_estimators': [117,120]}\n",
    "\n",
    "grid_model = GridSearchCV(RandomForestClassifier(), parameters )\n",
    "grid_model.fit(X_train, y_train.values.ravel())\n",
    "print(grid_model.best_score_)\n",
    "print(grid_model.best_params_)\n",
    "y_predict = grid_model.predict(X_test)\n",
    "print(accuracy_score(y_test,y_predict))\n",
    "print(classification_report(y_test,y_predict))\n",
    "print(confusion_matrix(y_test,y_predict))"
   ]
  },
  {
   "cell_type": "code",
   "execution_count": 87,
   "metadata": {},
   "outputs": [
    {
     "name": "stdout",
     "output_type": "stream",
     "text": [
      "0.7116564417177914\n",
      "{'n_estimators': 1115, 'min_samples_split': 5, 'min_samples_leaf': 8, 'max_features': 'auto', 'max_depth': 100, 'bootstrap': False}\n",
      "0.7887323943661971\n",
      "              precision    recall  f1-score   support\n",
      "\n",
      "           0       0.70      0.70      0.70        23\n",
      "           1       0.83      0.87      0.85        46\n",
      "           2       0.00      0.00      0.00         2\n",
      "\n",
      "    accuracy                           0.79        71\n",
      "   macro avg       0.51      0.52      0.52        71\n",
      "weighted avg       0.77      0.79      0.78        71\n",
      "\n",
      "[[16  7  0]\n",
      " [ 6 40  0]\n",
      " [ 1  1  0]]\n"
     ]
    }
   ],
   "source": [
    "#RANDOMIZEDSEARCHCV\n",
    "# Number of trees in random forest\n",
    "n_estimators = [int(x) for x in np.linspace(start = 10, stop = 2000, num = 10)]\n",
    "# Number of features to consider at every split\n",
    "max_features = ['auto', 'sqrt']\n",
    "# Maximum number of levels in tree\n",
    "max_depth = [int(x) for x in np.linspace(10, 110, num = 11)]\n",
    "max_depth.append(None)\n",
    "# Minimum number of samples required to split a node\n",
    "min_samples_split = [2, 5, 10, 20, 25]\n",
    "# Minimum number of samples required at each leaf node\n",
    "min_samples_leaf = [1, 2, 4, 6, 8, 10]\n",
    "# Method of selecting samples for training each tree\n",
    "bootstrap = [True, False]\n",
    "# Create the random grid\n",
    "random_grid = {'n_estimators': n_estimators,\n",
    "               'max_features': max_features,\n",
    "               'max_depth': max_depth,\n",
    "               'min_samples_split': min_samples_split,\n",
    "               'min_samples_leaf': min_samples_leaf,\n",
    "               'bootstrap': bootstrap}\n",
    "grid_model = RandomizedSearchCV(RandomForestClassifier(),random_grid ,random_state=10)\n",
    "grid_model.fit(X_train, y_train.values.ravel())\n",
    "print(grid_model.best_score_)\n",
    "print(grid_model.best_params_)\n",
    "y_predict = grid_model.predict(X_test)\n",
    "print(accuracy_score(y_test,y_predict))\n",
    "print(classification_report(y_test,y_predict))\n",
    "print(confusion_matrix(y_test,y_predict))"
   ]
  },
  {
   "cell_type": "code",
   "execution_count": 88,
   "metadata": {},
   "outputs": [
    {
     "name": "stdout",
     "output_type": "stream",
     "text": [
      "0.7361963190184049\n",
      "{'colsample_bytree': 0.6, 'gamma': 2, 'max_depth': 3, 'min_child_weight': 5, 'subsample': 0.8}\n",
      "0.8169014084507042\n",
      "              precision    recall  f1-score   support\n",
      "\n",
      "           0       0.67      0.87      0.75        23\n",
      "           1       0.93      0.83      0.87        46\n",
      "           2       0.00      0.00      0.00         2\n",
      "\n",
      "    accuracy                           0.82        71\n",
      "   macro avg       0.53      0.57      0.54        71\n",
      "weighted avg       0.82      0.82      0.81        71\n",
      "\n",
      "[[20  3  0]\n",
      " [ 8 38  0]\n",
      " [ 2  0  0]]\n"
     ]
    }
   ],
   "source": [
    "#Grid search on XGBOOST\n",
    "from sklearn.metrics import accuracy_score, classification_report\n",
    "from sklearn.svm import SVC\n",
    "from sklearn.model_selection import GridSearchCV\n",
    "\n",
    "#model = XGBOOST(kernel='rbf',C=1,gamma =.5)\n",
    "\n",
    "params = {\n",
    "        'min_child_weight': [1, 5, 10,15,20],\n",
    "        'gamma': [0.5, 1, 1.5, 2, 5],\n",
    "        'subsample': [0.6, 0.8, 1.0],\n",
    "        'colsample_bytree': [0.6, 0.7,0.8,0.9, 1.0],\n",
    "        'max_depth': [3, 4, 5]\n",
    "        }\n",
    "                    \n",
    "grid_model = GridSearchCV(XGBClassifier(), params)\n",
    "grid_model.fit(X_train, y_train.values.ravel())\n",
    "print(grid_model.best_score_)\n",
    "print(grid_model.best_params_)\n",
    "y_predict = grid_model.predict(X_test)\n",
    "print(accuracy_score(y_test,y_predict))\n",
    "print(classification_report(y_test,y_predict))\n",
    "print(confusion_matrix(y_test,y_predict))"
   ]
  }
 ],
 "metadata": {
  "kernelspec": {
   "display_name": "Python 3",
   "language": "python",
   "name": "python3"
  },
  "language_info": {
   "codemirror_mode": {
    "name": "ipython",
    "version": 3
   },
   "file_extension": ".py",
   "mimetype": "text/x-python",
   "name": "python",
   "nbconvert_exporter": "python",
   "pygments_lexer": "ipython3",
   "version": "3.6.5"
  }
 },
 "nbformat": 4,
 "nbformat_minor": 2
}
